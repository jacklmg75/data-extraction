{
  "nbformat": 4,
  "nbformat_minor": 0,
  "metadata": {
    "colab": {
      "provenance": [],
      "include_colab_link": true
    },
    "kernelspec": {
      "name": "python3",
      "display_name": "Python 3"
    }
  },
  "cells": [
    {
      "cell_type": "markdown",
      "metadata": {
        "id": "view-in-github",
        "colab_type": "text"
      },
      "source": [
        "<a href=\"https://colab.research.google.com/github/jacklmg75/data-extraction/blob/main/1_2_Coleta_via_FeedRSS.ipynb\" target=\"_parent\"><img src=\"https://colab.research.google.com/assets/colab-badge.svg\" alt=\"Open In Colab\"/></a>"
      ]
    },
    {
      "cell_type": "markdown",
      "metadata": {
        "id": "ZMoPeidX2dMH"
      },
      "source": [
        "# Coleta utilizando FEEDS RSS"
      ]
    },
    {
      "cell_type": "code",
      "metadata": {
        "id": "F_YhkoeEE8Vr"
      },
      "source": [
        "%%capture\n",
        "!pip install feedparser\n",
        "\n",
        "import feedparser"
      ],
      "execution_count": null,
      "outputs": []
    },
    {
      "cell_type": "code",
      "metadata": {
        "id": "l4BTfnpxFFUw"
      },
      "source": [
        "FEED_URL='http://rss.nytimes.com/services/xml/rss/nyt/HomePage.xml'\n",
        "\n",
        "fp = feedparser.parse(FEED_URL)"
      ],
      "execution_count": null,
      "outputs": []
    },
    {
      "cell_type": "code",
      "source": [
        "fp.entries[:1]"
      ],
      "metadata": {
        "colab": {
          "base_uri": "https://localhost:8080/"
        },
        "id": "vsCfJhm16axS",
        "outputId": "98f3504e-13da-44f8-db8b-04fa29d51b38"
      },
      "execution_count": null,
      "outputs": [
        {
          "output_type": "execute_result",
          "data": {
            "text/plain": [
              "[{'author': 'Charlie Savage',\n",
              "  'author_detail': {'name': 'Charlie Savage'},\n",
              "  'authors': [{'name': 'Charlie Savage'}],\n",
              "  'content': [{'base': 'https://rss.nytimes.com/services/xml/rss/nyt/HomePage.xml',\n",
              "    'language': None,\n",
              "    'type': 'text/plain',\n",
              "    'value': 'The Supreme Court’s decision shifts power back to Congress, which could pass a law to regulate carbon emissions from power plants, but is unlikely to do so.'}],\n",
              "  'credit': 'Tamir Kalifa for The New York Times',\n",
              "  'guidislink': False,\n",
              "  'id': 'https://www.nytimes.com/2022/06/30/us/supreme-court-epa-administrative-state.html',\n",
              "  'link': 'https://www.nytimes.com/2022/06/30/us/supreme-court-epa-administrative-state.html',\n",
              "  'links': [{'href': 'https://www.nytimes.com/2022/06/30/us/supreme-court-epa-administrative-state.html',\n",
              "    'rel': 'alternate',\n",
              "    'type': 'text/html'},\n",
              "   {'href': 'https://www.nytimes.com/2022/06/30/us/supreme-court-epa-administrative-state.html',\n",
              "    'rel': 'standout',\n",
              "    'type': 'text/html'}],\n",
              "  'media_content': [{'height': '151',\n",
              "    'medium': 'image',\n",
              "    'url': 'https://static01.nyt.com/images/2022/07/13/us/politics/13scotus-epa-economy-regulation1/merlin_186943629_e17bce61-4a0f-4b34-a9f6-fe8da9f86da9-moth.jpg',\n",
              "    'width': '151'}],\n",
              "  'media_credit': [{'content': 'Tamir Kalifa for The New York Times'}],\n",
              "  'published': 'Thu, 30 Jun 2022 23:41:47 +0000',\n",
              "  'published_parsed': time.struct_time(tm_year=2022, tm_mon=6, tm_mday=30, tm_hour=23, tm_min=41, tm_sec=47, tm_wday=3, tm_yday=181, tm_isdst=0),\n",
              "  'summary': 'The decision created greater opportunities for business interests to challenge regulations, reflecting conservative legal theories developed to rein in administrative agencies.',\n",
              "  'summary_detail': {'base': 'https://rss.nytimes.com/services/xml/rss/nyt/HomePage.xml',\n",
              "   'language': None,\n",
              "   'type': 'text/html',\n",
              "   'value': 'The decision created greater opportunities for business interests to challenge regulations, reflecting conservative legal theories developed to rein in administrative agencies.'},\n",
              "  'tags': [{'label': None,\n",
              "    'scheme': 'http://www.nytimes.com/namespaces/keywords/nyt_org',\n",
              "    'term': 'Supreme Court (US)'},\n",
              "   {'label': None,\n",
              "    'scheme': 'http://www.nytimes.com/namespaces/keywords/des',\n",
              "    'term': 'Law and Legislation'},\n",
              "   {'label': None,\n",
              "    'scheme': 'http://www.nytimes.com/namespaces/keywords/des',\n",
              "    'term': 'Regulation and Deregulation of Industry'},\n",
              "   {'label': None,\n",
              "    'scheme': 'http://www.nytimes.com/namespaces/keywords/des',\n",
              "    'term': 'United States Economy'},\n",
              "   {'label': None,\n",
              "    'scheme': 'http://www.nytimes.com/namespaces/keywords/des',\n",
              "    'term': 'Greenhouse Gas Emissions'},\n",
              "   {'label': None,\n",
              "    'scheme': 'http://www.nytimes.com/namespaces/keywords/des',\n",
              "    'term': 'Conservatism (US Politics)'},\n",
              "   {'label': None,\n",
              "    'scheme': 'http://www.nytimes.com/namespaces/keywords/des',\n",
              "    'term': 'Clean Air Act'},\n",
              "   {'label': None,\n",
              "    'scheme': 'http://www.nytimes.com/namespaces/keywords/des',\n",
              "    'term': 'Decisions and Verdicts'},\n",
              "   {'label': None,\n",
              "    'scheme': 'http://www.nytimes.com/namespaces/keywords/des',\n",
              "    'term': 'United States Politics and Government'}],\n",
              "  'title': 'E.P.A. Ruling Is Milestone in Long Pushback to Regulation of Business',\n",
              "  'title_detail': {'base': 'https://rss.nytimes.com/services/xml/rss/nyt/HomePage.xml',\n",
              "   'language': None,\n",
              "   'type': 'text/plain',\n",
              "   'value': 'E.P.A. Ruling Is Milestone in Long Pushback to Regulation of Business'}}]"
            ]
          },
          "metadata": {},
          "execution_count": 11
        }
      ]
    },
    {
      "cell_type": "markdown",
      "metadata": {
        "id": "RplicYZjgSns"
      },
      "source": [
        "## Exercício:\n",
        "\n",
        "Utilize outro link de FEED RSS e substitua neste notebook."
      ]
    },
    {
      "cell_type": "markdown",
      "source": [
        "## Selecionando colunas"
      ],
      "metadata": {
        "id": "rqO665Oj7EI2"
      }
    },
    {
      "cell_type": "code",
      "metadata": {
        "id": "G3KjYv1EFqO1",
        "colab": {
          "base_uri": "https://localhost:8080/"
        },
        "outputId": "56977776-9f23-41a6-cdff-eb465f6944d5"
      },
      "source": [
        "for e in fp.entries:\n",
        "        print (\"Titulo:\", e.get(\"title\"))\n",
        "        print (\"Link:\",   e.get(\"link\"))\n",
        "        print (\"Texto:\",  e.get(\"content\",[{}])[0].get(\"value\"))\n",
        "        print (\"Autor:\",  e.get(\"author\"))\n",
        "        print(\"---------------\")\n",
        "        break;"
      ],
      "execution_count": null,
      "outputs": [
        {
          "output_type": "stream",
          "name": "stdout",
          "text": [
            "Titulo: E.P.A. Ruling Is Milestone in Long Pushback to Regulation of Business\n",
            "Link: https://www.nytimes.com/2022/06/30/us/supreme-court-epa-administrative-state.html\n",
            "Texto: The Supreme Court’s decision shifts power back to Congress, which could pass a law to regulate carbon emissions from power plants, but is unlikely to do so.\n",
            "Autor: Charlie Savage\n",
            "---------------\n"
          ]
        }
      ]
    },
    {
      "cell_type": "markdown",
      "source": [
        "## Leitura de FEEDS salvos em arquivos"
      ],
      "metadata": {
        "id": "RDoVQuSv7Msw"
      }
    },
    {
      "cell_type": "code",
      "metadata": {
        "id": "e-2g9rcY3rJ5"
      },
      "source": [
        "# Da pra fazer parsing de uma string previamente salva ou e de arquivo local\n",
        "\n",
        "feed = feedparser.parse(r'https://www.dropbox.com/s/99ivrzcj114z9k3/nyt.xml?dl=1')"
      ],
      "execution_count": null,
      "outputs": []
    },
    {
      "cell_type": "code",
      "metadata": {
        "id": "tL-Bbf3032cL",
        "colab": {
          "base_uri": "https://localhost:8080/"
        },
        "outputId": "122b08da-baa8-457b-b5a8-d8b1b508cefd"
      },
      "source": [
        "for artigo in feed.entries:\n",
        "        print (\"Titulo:\", artigo.get(\"title\"))\n",
        "        print (\"Link:\",   artigo.get(\"link\"))\n",
        "        print (\"Texto:\",  artigo.get(\"content\",[{}])[0].get(\"value\"))\n",
        "        print (\"Autor:\",  artigo.get(\"author\"))\n",
        "        print(\"---------------\")\n",
        "        break;"
      ],
      "execution_count": null,
      "outputs": [
        {
          "output_type": "stream",
          "name": "stdout",
          "text": [
            "Titulo: Trump Says Iran Appears Responsible for Saudi Attack but That He Wants to Avoid War\n",
            "Link: https://www.nytimes.com/2019/09/16/world/middleeast/saudi-oil.html?emc=rss&partner=rss\n",
            "Texto: Houthi rebel fighters in Sana, Yemen, in August. United Nations experts say that Iran has supplied the group with drones and missiles.\n",
            "Autor: Richard Pérez-Peña, David D. Kirkpatrick and Michael Crowley\n",
            "---------------\n"
          ]
        }
      ]
    },
    {
      "cell_type": "markdown",
      "source": [
        "## Criando um dataframe"
      ],
      "metadata": {
        "id": "9cRIEjmZ4fC6"
      }
    },
    {
      "cell_type": "code",
      "metadata": {
        "id": "bgmFCf0MFXSX",
        "colab": {
          "base_uri": "https://localhost:8080/"
        },
        "outputId": "1e711d79-f004-465d-9738-a5dbc9435d86"
      },
      "source": [
        "import pandas as pd\n",
        "\n",
        "artigos = []\n",
        "\n",
        "for artigo in feed.entries:\n",
        "    artigos.append((artigo.get(\"title\"), artigo.get(\"link\"), artigo.get(\"content\",[{}])[0].get(\"value\"),artigo.get(\"author\")))\n",
        "\n",
        "df = pd.DataFrame(artigos, columns=['title', 'link', 'text', \"author\"])\n",
        "df.shape"
      ],
      "execution_count": null,
      "outputs": [
        {
          "output_type": "execute_result",
          "data": {
            "text/plain": [
              "(49, 4)"
            ]
          },
          "metadata": {},
          "execution_count": 15
        }
      ]
    },
    {
      "cell_type": "code",
      "metadata": {
        "colab": {
          "base_uri": "https://localhost:8080/",
          "height": 206
        },
        "id": "EqibHIgjTPGV",
        "outputId": "12bc9f0b-70e5-4128-a84f-a4425adb5f0e"
      },
      "source": [
        "df.head()"
      ],
      "execution_count": null,
      "outputs": [
        {
          "output_type": "execute_result",
          "data": {
            "text/plain": [
              "                                               title  \\\n",
              "0  Trump Says Iran Appears Responsible for Saudi ...   \n",
              "1  Trump’s Deference to Saudis in Setting Terms f...   \n",
              "2  G.M. Workers Say They Sacrificed, and Now They...   \n",
              "3  Why This Scientist Keeps Receiving Packages of...   \n",
              "4  Age Isn’t Hurting 2020 Democratic Leaders, to ...   \n",
              "\n",
              "                                                link  \\\n",
              "0  https://www.nytimes.com/2019/09/16/world/middl...   \n",
              "1  https://www.nytimes.com/2019/09/16/us/politics...   \n",
              "2  https://www.nytimes.com/2019/09/16/business/ua...   \n",
              "3  https://www.nytimes.com/2019/09/16/science/hai...   \n",
              "4  https://www.nytimes.com/2019/09/16/us/politics...   \n",
              "\n",
              "                                                text  \\\n",
              "0  Houthi rebel fighters in Sana, Yemen, in Augus...   \n",
              "1  President Trump warned that the United States ...   \n",
              "2  Employees at the General Motors assembly plant...   \n",
              "3  A University of California, Santa Cruz lab tec...   \n",
              "4  Joesph R. Biden Jr. with supporters during a c...   \n",
              "\n",
              "                                              author  \n",
              "0  Richard Pérez-Peña, David D. Kirkpatrick and M...  \n",
              "1                    Peter Baker and David E. Sanger  \n",
              "2                                   Neal E. Boudette  \n",
              "3                                     Heather Murphy  \n",
              "4                                    Reid J. Epstein  "
            ],
            "text/html": [
              "\n",
              "  <div id=\"df-ff9d59fc-1672-48ec-bac2-504048049684\">\n",
              "    <div class=\"colab-df-container\">\n",
              "      <div>\n",
              "<style scoped>\n",
              "    .dataframe tbody tr th:only-of-type {\n",
              "        vertical-align: middle;\n",
              "    }\n",
              "\n",
              "    .dataframe tbody tr th {\n",
              "        vertical-align: top;\n",
              "    }\n",
              "\n",
              "    .dataframe thead th {\n",
              "        text-align: right;\n",
              "    }\n",
              "</style>\n",
              "<table border=\"1\" class=\"dataframe\">\n",
              "  <thead>\n",
              "    <tr style=\"text-align: right;\">\n",
              "      <th></th>\n",
              "      <th>title</th>\n",
              "      <th>link</th>\n",
              "      <th>text</th>\n",
              "      <th>author</th>\n",
              "    </tr>\n",
              "  </thead>\n",
              "  <tbody>\n",
              "    <tr>\n",
              "      <th>0</th>\n",
              "      <td>Trump Says Iran Appears Responsible for Saudi ...</td>\n",
              "      <td>https://www.nytimes.com/2019/09/16/world/middl...</td>\n",
              "      <td>Houthi rebel fighters in Sana, Yemen, in Augus...</td>\n",
              "      <td>Richard Pérez-Peña, David D. Kirkpatrick and M...</td>\n",
              "    </tr>\n",
              "    <tr>\n",
              "      <th>1</th>\n",
              "      <td>Trump’s Deference to Saudis in Setting Terms f...</td>\n",
              "      <td>https://www.nytimes.com/2019/09/16/us/politics...</td>\n",
              "      <td>President Trump warned that the United States ...</td>\n",
              "      <td>Peter Baker and David E. Sanger</td>\n",
              "    </tr>\n",
              "    <tr>\n",
              "      <th>2</th>\n",
              "      <td>G.M. Workers Say They Sacrificed, and Now They...</td>\n",
              "      <td>https://www.nytimes.com/2019/09/16/business/ua...</td>\n",
              "      <td>Employees at the General Motors assembly plant...</td>\n",
              "      <td>Neal E. Boudette</td>\n",
              "    </tr>\n",
              "    <tr>\n",
              "      <th>3</th>\n",
              "      <td>Why This Scientist Keeps Receiving Packages of...</td>\n",
              "      <td>https://www.nytimes.com/2019/09/16/science/hai...</td>\n",
              "      <td>A University of California, Santa Cruz lab tec...</td>\n",
              "      <td>Heather Murphy</td>\n",
              "    </tr>\n",
              "    <tr>\n",
              "      <th>4</th>\n",
              "      <td>Age Isn’t Hurting 2020 Democratic Leaders, to ...</td>\n",
              "      <td>https://www.nytimes.com/2019/09/16/us/politics...</td>\n",
              "      <td>Joesph R. Biden Jr. with supporters during a c...</td>\n",
              "      <td>Reid J. Epstein</td>\n",
              "    </tr>\n",
              "  </tbody>\n",
              "</table>\n",
              "</div>\n",
              "      <button class=\"colab-df-convert\" onclick=\"convertToInteractive('df-ff9d59fc-1672-48ec-bac2-504048049684')\"\n",
              "              title=\"Convert this dataframe to an interactive table.\"\n",
              "              style=\"display:none;\">\n",
              "        \n",
              "  <svg xmlns=\"http://www.w3.org/2000/svg\" height=\"24px\"viewBox=\"0 0 24 24\"\n",
              "       width=\"24px\">\n",
              "    <path d=\"M0 0h24v24H0V0z\" fill=\"none\"/>\n",
              "    <path d=\"M18.56 5.44l.94 2.06.94-2.06 2.06-.94-2.06-.94-.94-2.06-.94 2.06-2.06.94zm-11 1L8.5 8.5l.94-2.06 2.06-.94-2.06-.94L8.5 2.5l-.94 2.06-2.06.94zm10 10l.94 2.06.94-2.06 2.06-.94-2.06-.94-.94-2.06-.94 2.06-2.06.94z\"/><path d=\"M17.41 7.96l-1.37-1.37c-.4-.4-.92-.59-1.43-.59-.52 0-1.04.2-1.43.59L10.3 9.45l-7.72 7.72c-.78.78-.78 2.05 0 2.83L4 21.41c.39.39.9.59 1.41.59.51 0 1.02-.2 1.41-.59l7.78-7.78 2.81-2.81c.8-.78.8-2.07 0-2.86zM5.41 20L4 18.59l7.72-7.72 1.47 1.35L5.41 20z\"/>\n",
              "  </svg>\n",
              "      </button>\n",
              "      \n",
              "  <style>\n",
              "    .colab-df-container {\n",
              "      display:flex;\n",
              "      flex-wrap:wrap;\n",
              "      gap: 12px;\n",
              "    }\n",
              "\n",
              "    .colab-df-convert {\n",
              "      background-color: #E8F0FE;\n",
              "      border: none;\n",
              "      border-radius: 50%;\n",
              "      cursor: pointer;\n",
              "      display: none;\n",
              "      fill: #1967D2;\n",
              "      height: 32px;\n",
              "      padding: 0 0 0 0;\n",
              "      width: 32px;\n",
              "    }\n",
              "\n",
              "    .colab-df-convert:hover {\n",
              "      background-color: #E2EBFA;\n",
              "      box-shadow: 0px 1px 2px rgba(60, 64, 67, 0.3), 0px 1px 3px 1px rgba(60, 64, 67, 0.15);\n",
              "      fill: #174EA6;\n",
              "    }\n",
              "\n",
              "    [theme=dark] .colab-df-convert {\n",
              "      background-color: #3B4455;\n",
              "      fill: #D2E3FC;\n",
              "    }\n",
              "\n",
              "    [theme=dark] .colab-df-convert:hover {\n",
              "      background-color: #434B5C;\n",
              "      box-shadow: 0px 1px 3px 1px rgba(0, 0, 0, 0.15);\n",
              "      filter: drop-shadow(0px 1px 2px rgba(0, 0, 0, 0.3));\n",
              "      fill: #FFFFFF;\n",
              "    }\n",
              "  </style>\n",
              "\n",
              "      <script>\n",
              "        const buttonEl =\n",
              "          document.querySelector('#df-ff9d59fc-1672-48ec-bac2-504048049684 button.colab-df-convert');\n",
              "        buttonEl.style.display =\n",
              "          google.colab.kernel.accessAllowed ? 'block' : 'none';\n",
              "\n",
              "        async function convertToInteractive(key) {\n",
              "          const element = document.querySelector('#df-ff9d59fc-1672-48ec-bac2-504048049684');\n",
              "          const dataTable =\n",
              "            await google.colab.kernel.invokeFunction('convertToInteractive',\n",
              "                                                     [key], {});\n",
              "          if (!dataTable) return;\n",
              "\n",
              "          const docLinkHtml = 'Like what you see? Visit the ' +\n",
              "            '<a target=\"_blank\" href=https://colab.research.google.com/notebooks/data_table.ipynb>data table notebook</a>'\n",
              "            + ' to learn more about interactive tables.';\n",
              "          element.innerHTML = '';\n",
              "          dataTable['output_type'] = 'display_data';\n",
              "          await google.colab.output.renderOutput(dataTable, element);\n",
              "          const docLink = document.createElement('div');\n",
              "          docLink.innerHTML = docLinkHtml;\n",
              "          element.appendChild(docLink);\n",
              "        }\n",
              "      </script>\n",
              "    </div>\n",
              "  </div>\n",
              "  "
            ]
          },
          "metadata": {},
          "execution_count": 16
        }
      ]
    }
  ]
}