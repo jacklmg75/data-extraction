{
  "nbformat": 4,
  "nbformat_minor": 0,
  "metadata": {
    "colab": {
      "provenance": [],
      "include_colab_link": true
    },
    "kernelspec": {
      "name": "python3",
      "display_name": "Python 3"
    }
  },
  "cells": [
    {
      "cell_type": "markdown",
      "metadata": {
        "id": "view-in-github",
        "colab_type": "text"
      },
      "source": [
        "<a href=\"https://colab.research.google.com/github/jacklmg75/data-extraction/blob/main/1_1_Coleta_via_API_Twitter.ipynb\" target=\"_parent\"><img src=\"https://colab.research.google.com/assets/colab-badge.svg\" alt=\"Open In Colab\"/></a>"
      ]
    },
    {
      "cell_type": "markdown",
      "metadata": {
        "id": "ZMoPeidX2dMH"
      },
      "source": [
        "# Coleta utilizando a API do Twitter"
      ]
    },
    {
      "cell_type": "markdown",
      "metadata": {
        "id": "RplicYZjgSns"
      },
      "source": [
        "## Faça você mesmo:\n",
        "\n",
        "Faça um cadastro de desenvolvedor no Twitter, obtenha suas credenciais e substitua neste notebook.\n",
        "\n",
        "\n",
        "\n",
        "---\n",
        "\n",
        "\n",
        "IMPORTANTE: Até obter suas credenciais pode usar as minhas, porém não faça muitas coletas pois do contrário a minha conta será bloqueada devido ao alto volume de alunos 🙏\n",
        "\n",
        "\n",
        "\n",
        "---\n",
        "\n",
        "\n",
        "> Site do Twitter: https://twitter.com/\n",
        "\n",
        "> Como obter as credenciais de acesso a API: https://developer.twitter.com/en/docs/twitter-api/getting-started/getting-access-to-the-twitter-api"
      ]
    },
    {
      "cell_type": "code",
      "metadata": {
        "id": "0B6a4WIGtX4K"
      },
      "source": [
        "# tweepy: Biblioteca para fazer chamadas ao Twitter\n",
        "# instalação: https://docs.tweepy.org/en/stable/install.html\n",
        "\n",
        "import tweepy"
      ],
      "execution_count": null,
      "outputs": []
    },
    {
      "cell_type": "markdown",
      "source": [
        "## Autorização"
      ],
      "metadata": {
        "id": "7-iDBzx_4lU2"
      }
    },
    {
      "cell_type": "code",
      "metadata": {
        "id": "VFr0K-rKt34E"
      },
      "source": [
        "# Credenciais de acesso após criação de API de desenvolvimento no Twitter\n",
        "# https://developer.twitter.com/en/portal/dashboard\n",
        "\n",
        "\n",
        "consumer_key=\"3mCp92z848nJHN7GuacNSDCJy\"\n",
        "consumer_secret=\"ZOPc2Ic6Lv9JhW9qnOJp5448fw02hWWaNZAzXOENbGDrrEO0Ce\"\n",
        "access_token=\"45660717-4Kb3b8vuNKLwalK8s6qpjItBfVMqi0YDRdJH35nD5\"\n",
        "access_token_secret=\"G8s0hQer4JBJ4RGoKg7RIvOxZnGclUHE5rJeh0kfnRwuU\"\n",
        "\n",
        "auth = tweepy.OAuthHandler(consumer_key, consumer_secret)\n",
        "auth.set_access_token(access_token, access_token_secret)\n",
        "\n",
        "twitter = tweepy.API(auth) # autenticamos"
      ],
      "execution_count": null,
      "outputs": []
    },
    {
      "cell_type": "markdown",
      "source": [
        "## Busca por termos"
      ],
      "metadata": {
        "id": "MjvGc2434rB1"
      }
    },
    {
      "cell_type": "code",
      "metadata": {
        "id": "VFfz0T1cxMxA",
        "colab": {
          "base_uri": "https://localhost:8080/"
        },
        "outputId": "2a1f008d-6d65-4332-82fa-069412754290"
      },
      "source": [
        "max_tweets = 10\n",
        "search_terms = \"ciencia de dados AND machine learning\"\n",
        "\n",
        "search_results = twitter.search(q=search_terms, count=max_tweets)\n",
        "\n",
        "search_results[:4]"
      ],
      "execution_count": null,
      "outputs": [
        {
          "output_type": "execute_result",
          "data": {
            "text/plain": [
              "[Status(_api=<tweepy.api.API object at 0x7f55b5d90810>, _json={'created_at': 'Fri Jun 10 21:00:23 +0000 2022', 'id': 1535366287043751936, 'id_str': '1535366287043751936', 'text': 'No exemplo abaixo, para realizar a classificação é utilizado a implementação do algoritmo GaussianNB (aplica-se qua… https://t.co/6WzNyM2ebd', 'truncated': True, 'entities': {'hashtags': [], 'symbols': [], 'user_mentions': [], 'urls': [{'url': 'https://t.co/6WzNyM2ebd', 'expanded_url': 'https://twitter.com/i/web/status/1535366287043751936', 'display_url': 'twitter.com/i/web/status/1…', 'indices': [117, 140]}]}, 'metadata': {'iso_language_code': 'pt', 'result_type': 'recent'}, 'source': '<a href=\"https://www.facebook.com/socialmlabs/\" rel=\"nofollow\">mLabs - Gestão de Redes Sociais</a>', 'in_reply_to_status_id': None, 'in_reply_to_status_id_str': None, 'in_reply_to_user_id': None, 'in_reply_to_user_id_str': None, 'in_reply_to_screen_name': None, 'user': {'id': 1267451651004280838, 'id_str': '1267451651004280838', 'name': 'IA Expert Academy', 'screen_name': 'iaexpertacademy', 'location': 'Porto União - SC', 'description': 'A plataforma IA Expert tem o objetivo de trazer cursos teóricos e práticos sobre Inteligência Artificial e Data Science, bem como notícias atualizadas sobre a á', 'url': 'https://t.co/V9GVu09wkN', 'entities': {'url': {'urls': [{'url': 'https://t.co/V9GVu09wkN', 'expanded_url': 'https://iaexpert.academy/', 'display_url': 'iaexpert.academy', 'indices': [0, 23]}]}, 'description': {'urls': []}}, 'protected': False, 'followers_count': 585, 'friends_count': 69, 'listed_count': 1, 'created_at': 'Mon Jun 01 13:43:49 +0000 2020', 'favourites_count': 4, 'utc_offset': None, 'time_zone': None, 'geo_enabled': False, 'verified': False, 'statuses_count': 616, 'lang': None, 'contributors_enabled': False, 'is_translator': False, 'is_translation_enabled': False, 'profile_background_color': 'F5F8FA', 'profile_background_image_url': None, 'profile_background_image_url_https': None, 'profile_background_tile': False, 'profile_image_url': 'http://pbs.twimg.com/profile_images/1325793985789652996/1eZSfnuz_normal.jpg', 'profile_image_url_https': 'https://pbs.twimg.com/profile_images/1325793985789652996/1eZSfnuz_normal.jpg', 'profile_banner_url': 'https://pbs.twimg.com/profile_banners/1267451651004280838/1612135293', 'profile_link_color': '1DA1F2', 'profile_sidebar_border_color': 'C0DEED', 'profile_sidebar_fill_color': 'DDEEF6', 'profile_text_color': '333333', 'profile_use_background_image': True, 'has_extended_profile': False, 'default_profile': True, 'default_profile_image': False, 'following': False, 'follow_request_sent': False, 'notifications': False, 'translator_type': 'none', 'withheld_in_countries': []}, 'geo': None, 'coordinates': None, 'place': None, 'contributors': None, 'is_quote_status': False, 'retweet_count': 0, 'favorite_count': 0, 'favorited': False, 'retweeted': False, 'possibly_sensitive': False, 'lang': 'pt'}, created_at=datetime.datetime(2022, 6, 10, 21, 0, 23), id=1535366287043751936, id_str='1535366287043751936', text='No exemplo abaixo, para realizar a classificação é utilizado a implementação do algoritmo GaussianNB (aplica-se qua… https://t.co/6WzNyM2ebd', truncated=True, entities={'hashtags': [], 'symbols': [], 'user_mentions': [], 'urls': [{'url': 'https://t.co/6WzNyM2ebd', 'expanded_url': 'https://twitter.com/i/web/status/1535366287043751936', 'display_url': 'twitter.com/i/web/status/1…', 'indices': [117, 140]}]}, metadata={'iso_language_code': 'pt', 'result_type': 'recent'}, source='mLabs - Gestão de Redes Sociais', source_url='https://www.facebook.com/socialmlabs/', in_reply_to_status_id=None, in_reply_to_status_id_str=None, in_reply_to_user_id=None, in_reply_to_user_id_str=None, in_reply_to_screen_name=None, author=User(_api=<tweepy.api.API object at 0x7f55b5d90810>, _json={'id': 1267451651004280838, 'id_str': '1267451651004280838', 'name': 'IA Expert Academy', 'screen_name': 'iaexpertacademy', 'location': 'Porto União - SC', 'description': 'A plataforma IA Expert tem o objetivo de trazer cursos teóricos e práticos sobre Inteligência Artificial e Data Science, bem como notícias atualizadas sobre a á', 'url': 'https://t.co/V9GVu09wkN', 'entities': {'url': {'urls': [{'url': 'https://t.co/V9GVu09wkN', 'expanded_url': 'https://iaexpert.academy/', 'display_url': 'iaexpert.academy', 'indices': [0, 23]}]}, 'description': {'urls': []}}, 'protected': False, 'followers_count': 585, 'friends_count': 69, 'listed_count': 1, 'created_at': 'Mon Jun 01 13:43:49 +0000 2020', 'favourites_count': 4, 'utc_offset': None, 'time_zone': None, 'geo_enabled': False, 'verified': False, 'statuses_count': 616, 'lang': None, 'contributors_enabled': False, 'is_translator': False, 'is_translation_enabled': False, 'profile_background_color': 'F5F8FA', 'profile_background_image_url': None, 'profile_background_image_url_https': None, 'profile_background_tile': False, 'profile_image_url': 'http://pbs.twimg.com/profile_images/1325793985789652996/1eZSfnuz_normal.jpg', 'profile_image_url_https': 'https://pbs.twimg.com/profile_images/1325793985789652996/1eZSfnuz_normal.jpg', 'profile_banner_url': 'https://pbs.twimg.com/profile_banners/1267451651004280838/1612135293', 'profile_link_color': '1DA1F2', 'profile_sidebar_border_color': 'C0DEED', 'profile_sidebar_fill_color': 'DDEEF6', 'profile_text_color': '333333', 'profile_use_background_image': True, 'has_extended_profile': False, 'default_profile': True, 'default_profile_image': False, 'following': False, 'follow_request_sent': False, 'notifications': False, 'translator_type': 'none', 'withheld_in_countries': []}, id=1267451651004280838, id_str='1267451651004280838', name='IA Expert Academy', screen_name='iaexpertacademy', location='Porto União - SC', description='A plataforma IA Expert tem o objetivo de trazer cursos teóricos e práticos sobre Inteligência Artificial e Data Science, bem como notícias atualizadas sobre a á', url='https://t.co/V9GVu09wkN', entities={'url': {'urls': [{'url': 'https://t.co/V9GVu09wkN', 'expanded_url': 'https://iaexpert.academy/', 'display_url': 'iaexpert.academy', 'indices': [0, 23]}]}, 'description': {'urls': []}}, protected=False, followers_count=585, friends_count=69, listed_count=1, created_at=datetime.datetime(2020, 6, 1, 13, 43, 49), favourites_count=4, utc_offset=None, time_zone=None, geo_enabled=False, verified=False, statuses_count=616, lang=None, contributors_enabled=False, is_translator=False, is_translation_enabled=False, profile_background_color='F5F8FA', profile_background_image_url=None, profile_background_image_url_https=None, profile_background_tile=False, profile_image_url='http://pbs.twimg.com/profile_images/1325793985789652996/1eZSfnuz_normal.jpg', profile_image_url_https='https://pbs.twimg.com/profile_images/1325793985789652996/1eZSfnuz_normal.jpg', profile_banner_url='https://pbs.twimg.com/profile_banners/1267451651004280838/1612135293', profile_link_color='1DA1F2', profile_sidebar_border_color='C0DEED', profile_sidebar_fill_color='DDEEF6', profile_text_color='333333', profile_use_background_image=True, has_extended_profile=False, default_profile=True, default_profile_image=False, following=False, follow_request_sent=False, notifications=False, translator_type='none', withheld_in_countries=[]), user=User(_api=<tweepy.api.API object at 0x7f55b5d90810>, _json={'id': 1267451651004280838, 'id_str': '1267451651004280838', 'name': 'IA Expert Academy', 'screen_name': 'iaexpertacademy', 'location': 'Porto União - SC', 'description': 'A plataforma IA Expert tem o objetivo de trazer cursos teóricos e práticos sobre Inteligência Artificial e Data Science, bem como notícias atualizadas sobre a á', 'url': 'https://t.co/V9GVu09wkN', 'entities': {'url': {'urls': [{'url': 'https://t.co/V9GVu09wkN', 'expanded_url': 'https://iaexpert.academy/', 'display_url': 'iaexpert.academy', 'indices': [0, 23]}]}, 'description': {'urls': []}}, 'protected': False, 'followers_count': 585, 'friends_count': 69, 'listed_count': 1, 'created_at': 'Mon Jun 01 13:43:49 +0000 2020', 'favourites_count': 4, 'utc_offset': None, 'time_zone': None, 'geo_enabled': False, 'verified': False, 'statuses_count': 616, 'lang': None, 'contributors_enabled': False, 'is_translator': False, 'is_translation_enabled': False, 'profile_background_color': 'F5F8FA', 'profile_background_image_url': None, 'profile_background_image_url_https': None, 'profile_background_tile': False, 'profile_image_url': 'http://pbs.twimg.com/profile_images/1325793985789652996/1eZSfnuz_normal.jpg', 'profile_image_url_https': 'https://pbs.twimg.com/profile_images/1325793985789652996/1eZSfnuz_normal.jpg', 'profile_banner_url': 'https://pbs.twimg.com/profile_banners/1267451651004280838/1612135293', 'profile_link_color': '1DA1F2', 'profile_sidebar_border_color': 'C0DEED', 'profile_sidebar_fill_color': 'DDEEF6', 'profile_text_color': '333333', 'profile_use_background_image': True, 'has_extended_profile': False, 'default_profile': True, 'default_profile_image': False, 'following': False, 'follow_request_sent': False, 'notifications': False, 'translator_type': 'none', 'withheld_in_countries': []}, id=1267451651004280838, id_str='1267451651004280838', name='IA Expert Academy', screen_name='iaexpertacademy', location='Porto União - SC', description='A plataforma IA Expert tem o objetivo de trazer cursos teóricos e práticos sobre Inteligência Artificial e Data Science, bem como notícias atualizadas sobre a á', url='https://t.co/V9GVu09wkN', entities={'url': {'urls': [{'url': 'https://t.co/V9GVu09wkN', 'expanded_url': 'https://iaexpert.academy/', 'display_url': 'iaexpert.academy', 'indices': [0, 23]}]}, 'description': {'urls': []}}, protected=False, followers_count=585, friends_count=69, listed_count=1, created_at=datetime.datetime(2020, 6, 1, 13, 43, 49), favourites_count=4, utc_offset=None, time_zone=None, geo_enabled=False, verified=False, statuses_count=616, lang=None, contributors_enabled=False, is_translator=False, is_translation_enabled=False, profile_background_color='F5F8FA', profile_background_image_url=None, profile_background_image_url_https=None, profile_background_tile=False, profile_image_url='http://pbs.twimg.com/profile_images/1325793985789652996/1eZSfnuz_normal.jpg', profile_image_url_https='https://pbs.twimg.com/profile_images/1325793985789652996/1eZSfnuz_normal.jpg', profile_banner_url='https://pbs.twimg.com/profile_banners/1267451651004280838/1612135293', profile_link_color='1DA1F2', profile_sidebar_border_color='C0DEED', profile_sidebar_fill_color='DDEEF6', profile_text_color='333333', profile_use_background_image=True, has_extended_profile=False, default_profile=True, default_profile_image=False, following=False, follow_request_sent=False, notifications=False, translator_type='none', withheld_in_countries=[]), geo=None, coordinates=None, place=None, contributors=None, is_quote_status=False, retweet_count=0, favorite_count=0, favorited=False, retweeted=False, possibly_sensitive=False, lang='pt'),\n",
              " Status(_api=<tweepy.api.API object at 0x7f55b5d90810>, _json={'created_at': 'Thu Jun 09 18:24:44 +0000 2022', 'id': 1534964730464456716, 'id_str': '1534964730464456716', 'text': 'Bora de mais um #Engcast?\\xa0\\xa0\\n\\nvamos falar sobre o que é ciência de dados. Além disso, abordamos como ela se relacion… https://t.co/lbmfGq86OR', 'truncated': True, 'entities': {'hashtags': [{'text': 'Engcast', 'indices': [16, 24]}], 'symbols': [], 'user_mentions': [], 'urls': [{'url': 'https://t.co/lbmfGq86OR', 'expanded_url': 'https://twitter.com/i/web/status/1534964730464456716', 'display_url': 'twitter.com/i/web/status/1…', 'indices': [117, 140]}]}, 'metadata': {'iso_language_code': 'pt', 'result_type': 'recent'}, 'source': '<a href=\"https://metricool.com\" rel=\"nofollow\">Metricool</a>', 'in_reply_to_status_id': None, 'in_reply_to_status_id_str': None, 'in_reply_to_user_id': None, 'in_reply_to_user_id_str': None, 'in_reply_to_screen_name': None, 'user': {'id': 857280177730146304, 'id_str': '857280177730146304', 'name': 'Engineering Brasil', 'screen_name': 'engineeringbr', 'location': 'Brasil', 'description': 'Companhia global de TI e Consultoria especializada em Transformação Digital.', 'url': 'https://t.co/6ndpW0rNEr', 'entities': {'url': {'urls': [{'url': 'https://t.co/6ndpW0rNEr', 'expanded_url': 'http://engdb.com.br/', 'display_url': 'engdb.com.br', 'indices': [0, 23]}]}, 'description': {'urls': []}}, 'protected': False, 'followers_count': 2359, 'friends_count': 98, 'listed_count': 5, 'created_at': 'Wed Apr 26 17:08:16 +0000 2017', 'favourites_count': 519, 'utc_offset': None, 'time_zone': None, 'geo_enabled': True, 'verified': False, 'statuses_count': 1315, 'lang': None, 'contributors_enabled': False, 'is_translator': False, 'is_translation_enabled': False, 'profile_background_color': '000000', 'profile_background_image_url': 'http://abs.twimg.com/images/themes/theme1/bg.png', 'profile_background_image_url_https': 'https://abs.twimg.com/images/themes/theme1/bg.png', 'profile_background_tile': False, 'profile_image_url': 'http://pbs.twimg.com/profile_images/1536408392503263238/eX7dus_G_normal.jpg', 'profile_image_url_https': 'https://pbs.twimg.com/profile_images/1536408392503263238/eX7dus_G_normal.jpg', 'profile_banner_url': 'https://pbs.twimg.com/profile_banners/857280177730146304/1638369354', 'profile_link_color': '002F55', 'profile_sidebar_border_color': '000000', 'profile_sidebar_fill_color': '000000', 'profile_text_color': '000000', 'profile_use_background_image': False, 'has_extended_profile': False, 'default_profile': False, 'default_profile_image': False, 'following': False, 'follow_request_sent': False, 'notifications': False, 'translator_type': 'none', 'withheld_in_countries': []}, 'geo': None, 'coordinates': None, 'place': None, 'contributors': None, 'is_quote_status': False, 'retweet_count': 0, 'favorite_count': 3, 'favorited': False, 'retweeted': False, 'possibly_sensitive': False, 'lang': 'pt'}, created_at=datetime.datetime(2022, 6, 9, 18, 24, 44), id=1534964730464456716, id_str='1534964730464456716', text='Bora de mais um #Engcast?\\xa0\\xa0\\n\\nvamos falar sobre o que é ciência de dados. Além disso, abordamos como ela se relacion… https://t.co/lbmfGq86OR', truncated=True, entities={'hashtags': [{'text': 'Engcast', 'indices': [16, 24]}], 'symbols': [], 'user_mentions': [], 'urls': [{'url': 'https://t.co/lbmfGq86OR', 'expanded_url': 'https://twitter.com/i/web/status/1534964730464456716', 'display_url': 'twitter.com/i/web/status/1…', 'indices': [117, 140]}]}, metadata={'iso_language_code': 'pt', 'result_type': 'recent'}, source='Metricool', source_url='https://metricool.com', in_reply_to_status_id=None, in_reply_to_status_id_str=None, in_reply_to_user_id=None, in_reply_to_user_id_str=None, in_reply_to_screen_name=None, author=User(_api=<tweepy.api.API object at 0x7f55b5d90810>, _json={'id': 857280177730146304, 'id_str': '857280177730146304', 'name': 'Engineering Brasil', 'screen_name': 'engineeringbr', 'location': 'Brasil', 'description': 'Companhia global de TI e Consultoria especializada em Transformação Digital.', 'url': 'https://t.co/6ndpW0rNEr', 'entities': {'url': {'urls': [{'url': 'https://t.co/6ndpW0rNEr', 'expanded_url': 'http://engdb.com.br/', 'display_url': 'engdb.com.br', 'indices': [0, 23]}]}, 'description': {'urls': []}}, 'protected': False, 'followers_count': 2359, 'friends_count': 98, 'listed_count': 5, 'created_at': 'Wed Apr 26 17:08:16 +0000 2017', 'favourites_count': 519, 'utc_offset': None, 'time_zone': None, 'geo_enabled': True, 'verified': False, 'statuses_count': 1315, 'lang': None, 'contributors_enabled': False, 'is_translator': False, 'is_translation_enabled': False, 'profile_background_color': '000000', 'profile_background_image_url': 'http://abs.twimg.com/images/themes/theme1/bg.png', 'profile_background_image_url_https': 'https://abs.twimg.com/images/themes/theme1/bg.png', 'profile_background_tile': False, 'profile_image_url': 'http://pbs.twimg.com/profile_images/1536408392503263238/eX7dus_G_normal.jpg', 'profile_image_url_https': 'https://pbs.twimg.com/profile_images/1536408392503263238/eX7dus_G_normal.jpg', 'profile_banner_url': 'https://pbs.twimg.com/profile_banners/857280177730146304/1638369354', 'profile_link_color': '002F55', 'profile_sidebar_border_color': '000000', 'profile_sidebar_fill_color': '000000', 'profile_text_color': '000000', 'profile_use_background_image': False, 'has_extended_profile': False, 'default_profile': False, 'default_profile_image': False, 'following': False, 'follow_request_sent': False, 'notifications': False, 'translator_type': 'none', 'withheld_in_countries': []}, id=857280177730146304, id_str='857280177730146304', name='Engineering Brasil', screen_name='engineeringbr', location='Brasil', description='Companhia global de TI e Consultoria especializada em Transformação Digital.', url='https://t.co/6ndpW0rNEr', entities={'url': {'urls': [{'url': 'https://t.co/6ndpW0rNEr', 'expanded_url': 'http://engdb.com.br/', 'display_url': 'engdb.com.br', 'indices': [0, 23]}]}, 'description': {'urls': []}}, protected=False, followers_count=2359, friends_count=98, listed_count=5, created_at=datetime.datetime(2017, 4, 26, 17, 8, 16), favourites_count=519, utc_offset=None, time_zone=None, geo_enabled=True, verified=False, statuses_count=1315, lang=None, contributors_enabled=False, is_translator=False, is_translation_enabled=False, profile_background_color='000000', profile_background_image_url='http://abs.twimg.com/images/themes/theme1/bg.png', profile_background_image_url_https='https://abs.twimg.com/images/themes/theme1/bg.png', profile_background_tile=False, profile_image_url='http://pbs.twimg.com/profile_images/1536408392503263238/eX7dus_G_normal.jpg', profile_image_url_https='https://pbs.twimg.com/profile_images/1536408392503263238/eX7dus_G_normal.jpg', profile_banner_url='https://pbs.twimg.com/profile_banners/857280177730146304/1638369354', profile_link_color='002F55', profile_sidebar_border_color='000000', profile_sidebar_fill_color='000000', profile_text_color='000000', profile_use_background_image=False, has_extended_profile=False, default_profile=False, default_profile_image=False, following=False, follow_request_sent=False, notifications=False, translator_type='none', withheld_in_countries=[]), user=User(_api=<tweepy.api.API object at 0x7f55b5d90810>, _json={'id': 857280177730146304, 'id_str': '857280177730146304', 'name': 'Engineering Brasil', 'screen_name': 'engineeringbr', 'location': 'Brasil', 'description': 'Companhia global de TI e Consultoria especializada em Transformação Digital.', 'url': 'https://t.co/6ndpW0rNEr', 'entities': {'url': {'urls': [{'url': 'https://t.co/6ndpW0rNEr', 'expanded_url': 'http://engdb.com.br/', 'display_url': 'engdb.com.br', 'indices': [0, 23]}]}, 'description': {'urls': []}}, 'protected': False, 'followers_count': 2359, 'friends_count': 98, 'listed_count': 5, 'created_at': 'Wed Apr 26 17:08:16 +0000 2017', 'favourites_count': 519, 'utc_offset': None, 'time_zone': None, 'geo_enabled': True, 'verified': False, 'statuses_count': 1315, 'lang': None, 'contributors_enabled': False, 'is_translator': False, 'is_translation_enabled': False, 'profile_background_color': '000000', 'profile_background_image_url': 'http://abs.twimg.com/images/themes/theme1/bg.png', 'profile_background_image_url_https': 'https://abs.twimg.com/images/themes/theme1/bg.png', 'profile_background_tile': False, 'profile_image_url': 'http://pbs.twimg.com/profile_images/1536408392503263238/eX7dus_G_normal.jpg', 'profile_image_url_https': 'https://pbs.twimg.com/profile_images/1536408392503263238/eX7dus_G_normal.jpg', 'profile_banner_url': 'https://pbs.twimg.com/profile_banners/857280177730146304/1638369354', 'profile_link_color': '002F55', 'profile_sidebar_border_color': '000000', 'profile_sidebar_fill_color': '000000', 'profile_text_color': '000000', 'profile_use_background_image': False, 'has_extended_profile': False, 'default_profile': False, 'default_profile_image': False, 'following': False, 'follow_request_sent': False, 'notifications': False, 'translator_type': 'none', 'withheld_in_countries': []}, id=857280177730146304, id_str='857280177730146304', name='Engineering Brasil', screen_name='engineeringbr', location='Brasil', description='Companhia global de TI e Consultoria especializada em Transformação Digital.', url='https://t.co/6ndpW0rNEr', entities={'url': {'urls': [{'url': 'https://t.co/6ndpW0rNEr', 'expanded_url': 'http://engdb.com.br/', 'display_url': 'engdb.com.br', 'indices': [0, 23]}]}, 'description': {'urls': []}}, protected=False, followers_count=2359, friends_count=98, listed_count=5, created_at=datetime.datetime(2017, 4, 26, 17, 8, 16), favourites_count=519, utc_offset=None, time_zone=None, geo_enabled=True, verified=False, statuses_count=1315, lang=None, contributors_enabled=False, is_translator=False, is_translation_enabled=False, profile_background_color='000000', profile_background_image_url='http://abs.twimg.com/images/themes/theme1/bg.png', profile_background_image_url_https='https://abs.twimg.com/images/themes/theme1/bg.png', profile_background_tile=False, profile_image_url='http://pbs.twimg.com/profile_images/1536408392503263238/eX7dus_G_normal.jpg', profile_image_url_https='https://pbs.twimg.com/profile_images/1536408392503263238/eX7dus_G_normal.jpg', profile_banner_url='https://pbs.twimg.com/profile_banners/857280177730146304/1638369354', profile_link_color='002F55', profile_sidebar_border_color='000000', profile_sidebar_fill_color='000000', profile_text_color='000000', profile_use_background_image=False, has_extended_profile=False, default_profile=False, default_profile_image=False, following=False, follow_request_sent=False, notifications=False, translator_type='none', withheld_in_countries=[]), geo=None, coordinates=None, place=None, contributors=None, is_quote_status=False, retweet_count=0, favorite_count=3, favorited=False, retweeted=False, possibly_sensitive=False, lang='pt'),\n",
              " Status(_api=<tweepy.api.API object at 0x7f55b5d90810>, _json={'created_at': 'Mon Jun 06 02:59:11 +0000 2022', 'id': 1533644645049180162, 'id_str': '1533644645049180162', 'text': '@Da30One Atualmente tô trabalhando com Ciência de Dados. A ideia é que eu consiga trazer dados/machine learning pra… https://t.co/Gh7b1qaliH', 'truncated': True, 'entities': {'hashtags': [], 'symbols': [], 'user_mentions': [{'screen_name': 'Da30One', 'name': 'Thiago Souza', 'id': 745291429308698624, 'id_str': '745291429308698624', 'indices': [0, 8]}], 'urls': [{'url': 'https://t.co/Gh7b1qaliH', 'expanded_url': 'https://twitter.com/i/web/status/1533644645049180162', 'display_url': 'twitter.com/i/web/status/1…', 'indices': [117, 140]}]}, 'metadata': {'iso_language_code': 'pt', 'result_type': 'recent'}, 'source': '<a href=\"http://twitter.com/download/android\" rel=\"nofollow\">Twitter for Android</a>', 'in_reply_to_status_id': 1533644404392611840, 'in_reply_to_status_id_str': '1533644404392611840', 'in_reply_to_user_id': 745291429308698624, 'in_reply_to_user_id_str': '745291429308698624', 'in_reply_to_screen_name': 'Da30One', 'user': {'id': 1298610388137910273, 'id_str': '1298610388137910273', 'name': 'psi de robôs', 'screen_name': '_genobre', 'location': 'Psicologia e Computação', 'description': 'a/ela/a\\nCarioca, 23, virginiana, viajante amadora, lgbt, feminista, dançarina de forró.\\nAnsiosa em tempo integral.', 'url': None, 'entities': {'description': {'urls': []}}, 'protected': False, 'followers_count': 172, 'friends_count': 293, 'listed_count': 1, 'created_at': 'Wed Aug 26 13:17:33 +0000 2020', 'favourites_count': 1898, 'utc_offset': None, 'time_zone': None, 'geo_enabled': False, 'verified': False, 'statuses_count': 1601, 'lang': None, 'contributors_enabled': False, 'is_translator': False, 'is_translation_enabled': False, 'profile_background_color': 'F5F8FA', 'profile_background_image_url': None, 'profile_background_image_url_https': None, 'profile_background_tile': False, 'profile_image_url': 'http://pbs.twimg.com/profile_images/1506758261382524935/5M6RTn9C_normal.jpg', 'profile_image_url_https': 'https://pbs.twimg.com/profile_images/1506758261382524935/5M6RTn9C_normal.jpg', 'profile_banner_url': 'https://pbs.twimg.com/profile_banners/1298610388137910273/1648074139', 'profile_link_color': '1DA1F2', 'profile_sidebar_border_color': 'C0DEED', 'profile_sidebar_fill_color': 'DDEEF6', 'profile_text_color': '333333', 'profile_use_background_image': True, 'has_extended_profile': True, 'default_profile': True, 'default_profile_image': False, 'following': False, 'follow_request_sent': False, 'notifications': False, 'translator_type': 'none', 'withheld_in_countries': []}, 'geo': None, 'coordinates': None, 'place': None, 'contributors': None, 'is_quote_status': False, 'retweet_count': 0, 'favorite_count': 0, 'favorited': False, 'retweeted': False, 'lang': 'pt'}, created_at=datetime.datetime(2022, 6, 6, 2, 59, 11), id=1533644645049180162, id_str='1533644645049180162', text='@Da30One Atualmente tô trabalhando com Ciência de Dados. A ideia é que eu consiga trazer dados/machine learning pra… https://t.co/Gh7b1qaliH', truncated=True, entities={'hashtags': [], 'symbols': [], 'user_mentions': [{'screen_name': 'Da30One', 'name': 'Thiago Souza', 'id': 745291429308698624, 'id_str': '745291429308698624', 'indices': [0, 8]}], 'urls': [{'url': 'https://t.co/Gh7b1qaliH', 'expanded_url': 'https://twitter.com/i/web/status/1533644645049180162', 'display_url': 'twitter.com/i/web/status/1…', 'indices': [117, 140]}]}, metadata={'iso_language_code': 'pt', 'result_type': 'recent'}, source='Twitter for Android', source_url='http://twitter.com/download/android', in_reply_to_status_id=1533644404392611840, in_reply_to_status_id_str='1533644404392611840', in_reply_to_user_id=745291429308698624, in_reply_to_user_id_str='745291429308698624', in_reply_to_screen_name='Da30One', author=User(_api=<tweepy.api.API object at 0x7f55b5d90810>, _json={'id': 1298610388137910273, 'id_str': '1298610388137910273', 'name': 'psi de robôs', 'screen_name': '_genobre', 'location': 'Psicologia e Computação', 'description': 'a/ela/a\\nCarioca, 23, virginiana, viajante amadora, lgbt, feminista, dançarina de forró.\\nAnsiosa em tempo integral.', 'url': None, 'entities': {'description': {'urls': []}}, 'protected': False, 'followers_count': 172, 'friends_count': 293, 'listed_count': 1, 'created_at': 'Wed Aug 26 13:17:33 +0000 2020', 'favourites_count': 1898, 'utc_offset': None, 'time_zone': None, 'geo_enabled': False, 'verified': False, 'statuses_count': 1601, 'lang': None, 'contributors_enabled': False, 'is_translator': False, 'is_translation_enabled': False, 'profile_background_color': 'F5F8FA', 'profile_background_image_url': None, 'profile_background_image_url_https': None, 'profile_background_tile': False, 'profile_image_url': 'http://pbs.twimg.com/profile_images/1506758261382524935/5M6RTn9C_normal.jpg', 'profile_image_url_https': 'https://pbs.twimg.com/profile_images/1506758261382524935/5M6RTn9C_normal.jpg', 'profile_banner_url': 'https://pbs.twimg.com/profile_banners/1298610388137910273/1648074139', 'profile_link_color': '1DA1F2', 'profile_sidebar_border_color': 'C0DEED', 'profile_sidebar_fill_color': 'DDEEF6', 'profile_text_color': '333333', 'profile_use_background_image': True, 'has_extended_profile': True, 'default_profile': True, 'default_profile_image': False, 'following': False, 'follow_request_sent': False, 'notifications': False, 'translator_type': 'none', 'withheld_in_countries': []}, id=1298610388137910273, id_str='1298610388137910273', name='psi de robôs', screen_name='_genobre', location='Psicologia e Computação', description='a/ela/a\\nCarioca, 23, virginiana, viajante amadora, lgbt, feminista, dançarina de forró.\\nAnsiosa em tempo integral.', url=None, entities={'description': {'urls': []}}, protected=False, followers_count=172, friends_count=293, listed_count=1, created_at=datetime.datetime(2020, 8, 26, 13, 17, 33), favourites_count=1898, utc_offset=None, time_zone=None, geo_enabled=False, verified=False, statuses_count=1601, lang=None, contributors_enabled=False, is_translator=False, is_translation_enabled=False, profile_background_color='F5F8FA', profile_background_image_url=None, profile_background_image_url_https=None, profile_background_tile=False, profile_image_url='http://pbs.twimg.com/profile_images/1506758261382524935/5M6RTn9C_normal.jpg', profile_image_url_https='https://pbs.twimg.com/profile_images/1506758261382524935/5M6RTn9C_normal.jpg', profile_banner_url='https://pbs.twimg.com/profile_banners/1298610388137910273/1648074139', profile_link_color='1DA1F2', profile_sidebar_border_color='C0DEED', profile_sidebar_fill_color='DDEEF6', profile_text_color='333333', profile_use_background_image=True, has_extended_profile=True, default_profile=True, default_profile_image=False, following=False, follow_request_sent=False, notifications=False, translator_type='none', withheld_in_countries=[]), user=User(_api=<tweepy.api.API object at 0x7f55b5d90810>, _json={'id': 1298610388137910273, 'id_str': '1298610388137910273', 'name': 'psi de robôs', 'screen_name': '_genobre', 'location': 'Psicologia e Computação', 'description': 'a/ela/a\\nCarioca, 23, virginiana, viajante amadora, lgbt, feminista, dançarina de forró.\\nAnsiosa em tempo integral.', 'url': None, 'entities': {'description': {'urls': []}}, 'protected': False, 'followers_count': 172, 'friends_count': 293, 'listed_count': 1, 'created_at': 'Wed Aug 26 13:17:33 +0000 2020', 'favourites_count': 1898, 'utc_offset': None, 'time_zone': None, 'geo_enabled': False, 'verified': False, 'statuses_count': 1601, 'lang': None, 'contributors_enabled': False, 'is_translator': False, 'is_translation_enabled': False, 'profile_background_color': 'F5F8FA', 'profile_background_image_url': None, 'profile_background_image_url_https': None, 'profile_background_tile': False, 'profile_image_url': 'http://pbs.twimg.com/profile_images/1506758261382524935/5M6RTn9C_normal.jpg', 'profile_image_url_https': 'https://pbs.twimg.com/profile_images/1506758261382524935/5M6RTn9C_normal.jpg', 'profile_banner_url': 'https://pbs.twimg.com/profile_banners/1298610388137910273/1648074139', 'profile_link_color': '1DA1F2', 'profile_sidebar_border_color': 'C0DEED', 'profile_sidebar_fill_color': 'DDEEF6', 'profile_text_color': '333333', 'profile_use_background_image': True, 'has_extended_profile': True, 'default_profile': True, 'default_profile_image': False, 'following': False, 'follow_request_sent': False, 'notifications': False, 'translator_type': 'none', 'withheld_in_countries': []}, id=1298610388137910273, id_str='1298610388137910273', name='psi de robôs', screen_name='_genobre', location='Psicologia e Computação', description='a/ela/a\\nCarioca, 23, virginiana, viajante amadora, lgbt, feminista, dançarina de forró.\\nAnsiosa em tempo integral.', url=None, entities={'description': {'urls': []}}, protected=False, followers_count=172, friends_count=293, listed_count=1, created_at=datetime.datetime(2020, 8, 26, 13, 17, 33), favourites_count=1898, utc_offset=None, time_zone=None, geo_enabled=False, verified=False, statuses_count=1601, lang=None, contributors_enabled=False, is_translator=False, is_translation_enabled=False, profile_background_color='F5F8FA', profile_background_image_url=None, profile_background_image_url_https=None, profile_background_tile=False, profile_image_url='http://pbs.twimg.com/profile_images/1506758261382524935/5M6RTn9C_normal.jpg', profile_image_url_https='https://pbs.twimg.com/profile_images/1506758261382524935/5M6RTn9C_normal.jpg', profile_banner_url='https://pbs.twimg.com/profile_banners/1298610388137910273/1648074139', profile_link_color='1DA1F2', profile_sidebar_border_color='C0DEED', profile_sidebar_fill_color='DDEEF6', profile_text_color='333333', profile_use_background_image=True, has_extended_profile=True, default_profile=True, default_profile_image=False, following=False, follow_request_sent=False, notifications=False, translator_type='none', withheld_in_countries=[]), geo=None, coordinates=None, place=None, contributors=None, is_quote_status=False, retweet_count=0, favorite_count=0, favorited=False, retweeted=False, lang='pt')]"
            ]
          },
          "metadata": {},
          "execution_count": 12
        }
      ]
    },
    {
      "cell_type": "code",
      "metadata": {
        "id": "hCqiVZd31nDq",
        "colab": {
          "base_uri": "https://localhost:8080/"
        },
        "outputId": "d5aa3425-dc1a-471f-a9ab-8a38497097d8"
      },
      "source": [
        "search_results[0]._json"
      ],
      "execution_count": null,
      "outputs": [
        {
          "output_type": "execute_result",
          "data": {
            "text/plain": [
              "{'contributors': None,\n",
              " 'coordinates': None,\n",
              " 'created_at': 'Fri Jun 10 21:00:23 +0000 2022',\n",
              " 'entities': {'hashtags': [],\n",
              "  'symbols': [],\n",
              "  'urls': [{'display_url': 'twitter.com/i/web/status/1…',\n",
              "    'expanded_url': 'https://twitter.com/i/web/status/1535366287043751936',\n",
              "    'indices': [117, 140],\n",
              "    'url': 'https://t.co/6WzNyM2ebd'}],\n",
              "  'user_mentions': []},\n",
              " 'favorite_count': 0,\n",
              " 'favorited': False,\n",
              " 'geo': None,\n",
              " 'id': 1535366287043751936,\n",
              " 'id_str': '1535366287043751936',\n",
              " 'in_reply_to_screen_name': None,\n",
              " 'in_reply_to_status_id': None,\n",
              " 'in_reply_to_status_id_str': None,\n",
              " 'in_reply_to_user_id': None,\n",
              " 'in_reply_to_user_id_str': None,\n",
              " 'is_quote_status': False,\n",
              " 'lang': 'pt',\n",
              " 'metadata': {'iso_language_code': 'pt', 'result_type': 'recent'},\n",
              " 'place': None,\n",
              " 'possibly_sensitive': False,\n",
              " 'retweet_count': 0,\n",
              " 'retweeted': False,\n",
              " 'source': '<a href=\"https://www.facebook.com/socialmlabs/\" rel=\"nofollow\">mLabs - Gestão de Redes Sociais</a>',\n",
              " 'text': 'No exemplo abaixo, para realizar a classificação é utilizado a implementação do algoritmo GaussianNB (aplica-se qua… https://t.co/6WzNyM2ebd',\n",
              " 'truncated': True,\n",
              " 'user': {'contributors_enabled': False,\n",
              "  'created_at': 'Mon Jun 01 13:43:49 +0000 2020',\n",
              "  'default_profile': True,\n",
              "  'default_profile_image': False,\n",
              "  'description': 'A plataforma IA Expert tem o objetivo de trazer cursos teóricos e práticos sobre Inteligência Artificial e Data Science, bem como notícias atualizadas sobre a á',\n",
              "  'entities': {'description': {'urls': []},\n",
              "   'url': {'urls': [{'display_url': 'iaexpert.academy',\n",
              "      'expanded_url': 'https://iaexpert.academy/',\n",
              "      'indices': [0, 23],\n",
              "      'url': 'https://t.co/V9GVu09wkN'}]}},\n",
              "  'favourites_count': 4,\n",
              "  'follow_request_sent': False,\n",
              "  'followers_count': 585,\n",
              "  'following': False,\n",
              "  'friends_count': 69,\n",
              "  'geo_enabled': False,\n",
              "  'has_extended_profile': False,\n",
              "  'id': 1267451651004280838,\n",
              "  'id_str': '1267451651004280838',\n",
              "  'is_translation_enabled': False,\n",
              "  'is_translator': False,\n",
              "  'lang': None,\n",
              "  'listed_count': 1,\n",
              "  'location': 'Porto União - SC',\n",
              "  'name': 'IA Expert Academy',\n",
              "  'notifications': False,\n",
              "  'profile_background_color': 'F5F8FA',\n",
              "  'profile_background_image_url': None,\n",
              "  'profile_background_image_url_https': None,\n",
              "  'profile_background_tile': False,\n",
              "  'profile_banner_url': 'https://pbs.twimg.com/profile_banners/1267451651004280838/1612135293',\n",
              "  'profile_image_url': 'http://pbs.twimg.com/profile_images/1325793985789652996/1eZSfnuz_normal.jpg',\n",
              "  'profile_image_url_https': 'https://pbs.twimg.com/profile_images/1325793985789652996/1eZSfnuz_normal.jpg',\n",
              "  'profile_link_color': '1DA1F2',\n",
              "  'profile_sidebar_border_color': 'C0DEED',\n",
              "  'profile_sidebar_fill_color': 'DDEEF6',\n",
              "  'profile_text_color': '333333',\n",
              "  'profile_use_background_image': True,\n",
              "  'protected': False,\n",
              "  'screen_name': 'iaexpertacademy',\n",
              "  'statuses_count': 616,\n",
              "  'time_zone': None,\n",
              "  'translator_type': 'none',\n",
              "  'url': 'https://t.co/V9GVu09wkN',\n",
              "  'utc_offset': None,\n",
              "  'verified': False,\n",
              "  'withheld_in_countries': []}}"
            ]
          },
          "metadata": {},
          "execution_count": 13
        }
      ]
    },
    {
      "cell_type": "markdown",
      "source": [
        "## Criando um dataframe"
      ],
      "metadata": {
        "id": "9cRIEjmZ4fC6"
      }
    },
    {
      "cell_type": "code",
      "metadata": {
        "id": "852O6V1E1C55",
        "colab": {
          "base_uri": "https://localhost:8080/",
          "height": 240
        },
        "outputId": "c15ff458-c2fc-4492-868a-52e8ae0f8758"
      },
      "source": [
        "import pandas as pd\n",
        "\n",
        "list_of_dicts = []\n",
        "for tweet in search_results:\n",
        "\n",
        "    # Extraindo cada coluna que queremos\n",
        "    tweet_dict = tweet._json\n",
        "    tweet_id = tweet_dict['id']\n",
        "    text = tweet_dict['text']\n",
        "    user_name = tweet_dict['user'][\"name\"]\n",
        "    favorite_count = tweet_dict['favorite_count']\n",
        "    retweet_count = tweet_dict['retweet_count']\n",
        "    created_at = tweet_dict['created_at']\n",
        "\n",
        "    # Incrementando nossa lista com o dicionario específico\n",
        "    list_of_dicts.append({ 'tweet_id': tweet_id,\n",
        "                           'text': text,\n",
        "                           'user_name': user_name,\n",
        "                           'favorite_count': int(favorite_count),\n",
        "                           'retweet_count': int(retweet_count),\n",
        "                           'created_at': created_at,\n",
        "                        })\n",
        "\n",
        "\n",
        "# Para aumentar a largura do print do dataframe :)\n",
        "pd.options.display.max_colwidth = 100\n",
        "\n",
        "pd.DataFrame(list_of_dicts)"
      ],
      "execution_count": null,
      "outputs": [
        {
          "output_type": "execute_result",
          "data": {
            "text/plain": [
              "              tweet_id  \\\n",
              "0  1535366287043751936   \n",
              "1  1534964730464456716   \n",
              "2  1533644645049180162   \n",
              "\n",
              "                                                                                                  text  \\\n",
              "0  No exemplo abaixo, para realizar a classificação é utilizado a implementação do algoritmo Gaussi...   \n",
              "1  Bora de mais um #Engcast?  \\n\\nvamos falar sobre o que é ciência de dados. Além disso, abordamos...   \n",
              "2  @Da30One Atualmente tô trabalhando com Ciência de Dados. A ideia é que eu consiga trazer dados/m...   \n",
              "\n",
              "            user_name  favorite_count  retweet_count  \\\n",
              "0   IA Expert Academy               0              0   \n",
              "1  Engineering Brasil               3              0   \n",
              "2        psi de robôs               0              0   \n",
              "\n",
              "                       created_at  \n",
              "0  Fri Jun 10 21:00:23 +0000 2022  \n",
              "1  Thu Jun 09 18:24:44 +0000 2022  \n",
              "2  Mon Jun 06 02:59:11 +0000 2022  "
            ],
            "text/html": [
              "\n",
              "  <div id=\"df-b5903f0d-874d-4e38-92ca-252cf87b6028\">\n",
              "    <div class=\"colab-df-container\">\n",
              "      <div>\n",
              "<style scoped>\n",
              "    .dataframe tbody tr th:only-of-type {\n",
              "        vertical-align: middle;\n",
              "    }\n",
              "\n",
              "    .dataframe tbody tr th {\n",
              "        vertical-align: top;\n",
              "    }\n",
              "\n",
              "    .dataframe thead th {\n",
              "        text-align: right;\n",
              "    }\n",
              "</style>\n",
              "<table border=\"1\" class=\"dataframe\">\n",
              "  <thead>\n",
              "    <tr style=\"text-align: right;\">\n",
              "      <th></th>\n",
              "      <th>tweet_id</th>\n",
              "      <th>text</th>\n",
              "      <th>user_name</th>\n",
              "      <th>favorite_count</th>\n",
              "      <th>retweet_count</th>\n",
              "      <th>created_at</th>\n",
              "    </tr>\n",
              "  </thead>\n",
              "  <tbody>\n",
              "    <tr>\n",
              "      <th>0</th>\n",
              "      <td>1535366287043751936</td>\n",
              "      <td>No exemplo abaixo, para realizar a classificação é utilizado a implementação do algoritmo Gaussi...</td>\n",
              "      <td>IA Expert Academy</td>\n",
              "      <td>0</td>\n",
              "      <td>0</td>\n",
              "      <td>Fri Jun 10 21:00:23 +0000 2022</td>\n",
              "    </tr>\n",
              "    <tr>\n",
              "      <th>1</th>\n",
              "      <td>1534964730464456716</td>\n",
              "      <td>Bora de mais um #Engcast?  \\n\\nvamos falar sobre o que é ciência de dados. Além disso, abordamos...</td>\n",
              "      <td>Engineering Brasil</td>\n",
              "      <td>3</td>\n",
              "      <td>0</td>\n",
              "      <td>Thu Jun 09 18:24:44 +0000 2022</td>\n",
              "    </tr>\n",
              "    <tr>\n",
              "      <th>2</th>\n",
              "      <td>1533644645049180162</td>\n",
              "      <td>@Da30One Atualmente tô trabalhando com Ciência de Dados. A ideia é que eu consiga trazer dados/m...</td>\n",
              "      <td>psi de robôs</td>\n",
              "      <td>0</td>\n",
              "      <td>0</td>\n",
              "      <td>Mon Jun 06 02:59:11 +0000 2022</td>\n",
              "    </tr>\n",
              "  </tbody>\n",
              "</table>\n",
              "</div>\n",
              "      <button class=\"colab-df-convert\" onclick=\"convertToInteractive('df-b5903f0d-874d-4e38-92ca-252cf87b6028')\"\n",
              "              title=\"Convert this dataframe to an interactive table.\"\n",
              "              style=\"display:none;\">\n",
              "        \n",
              "  <svg xmlns=\"http://www.w3.org/2000/svg\" height=\"24px\"viewBox=\"0 0 24 24\"\n",
              "       width=\"24px\">\n",
              "    <path d=\"M0 0h24v24H0V0z\" fill=\"none\"/>\n",
              "    <path d=\"M18.56 5.44l.94 2.06.94-2.06 2.06-.94-2.06-.94-.94-2.06-.94 2.06-2.06.94zm-11 1L8.5 8.5l.94-2.06 2.06-.94-2.06-.94L8.5 2.5l-.94 2.06-2.06.94zm10 10l.94 2.06.94-2.06 2.06-.94-2.06-.94-.94-2.06-.94 2.06-2.06.94z\"/><path d=\"M17.41 7.96l-1.37-1.37c-.4-.4-.92-.59-1.43-.59-.52 0-1.04.2-1.43.59L10.3 9.45l-7.72 7.72c-.78.78-.78 2.05 0 2.83L4 21.41c.39.39.9.59 1.41.59.51 0 1.02-.2 1.41-.59l7.78-7.78 2.81-2.81c.8-.78.8-2.07 0-2.86zM5.41 20L4 18.59l7.72-7.72 1.47 1.35L5.41 20z\"/>\n",
              "  </svg>\n",
              "      </button>\n",
              "      \n",
              "  <style>\n",
              "    .colab-df-container {\n",
              "      display:flex;\n",
              "      flex-wrap:wrap;\n",
              "      gap: 12px;\n",
              "    }\n",
              "\n",
              "    .colab-df-convert {\n",
              "      background-color: #E8F0FE;\n",
              "      border: none;\n",
              "      border-radius: 50%;\n",
              "      cursor: pointer;\n",
              "      display: none;\n",
              "      fill: #1967D2;\n",
              "      height: 32px;\n",
              "      padding: 0 0 0 0;\n",
              "      width: 32px;\n",
              "    }\n",
              "\n",
              "    .colab-df-convert:hover {\n",
              "      background-color: #E2EBFA;\n",
              "      box-shadow: 0px 1px 2px rgba(60, 64, 67, 0.3), 0px 1px 3px 1px rgba(60, 64, 67, 0.15);\n",
              "      fill: #174EA6;\n",
              "    }\n",
              "\n",
              "    [theme=dark] .colab-df-convert {\n",
              "      background-color: #3B4455;\n",
              "      fill: #D2E3FC;\n",
              "    }\n",
              "\n",
              "    [theme=dark] .colab-df-convert:hover {\n",
              "      background-color: #434B5C;\n",
              "      box-shadow: 0px 1px 3px 1px rgba(0, 0, 0, 0.15);\n",
              "      filter: drop-shadow(0px 1px 2px rgba(0, 0, 0, 0.3));\n",
              "      fill: #FFFFFF;\n",
              "    }\n",
              "  </style>\n",
              "\n",
              "      <script>\n",
              "        const buttonEl =\n",
              "          document.querySelector('#df-b5903f0d-874d-4e38-92ca-252cf87b6028 button.colab-df-convert');\n",
              "        buttonEl.style.display =\n",
              "          google.colab.kernel.accessAllowed ? 'block' : 'none';\n",
              "\n",
              "        async function convertToInteractive(key) {\n",
              "          const element = document.querySelector('#df-b5903f0d-874d-4e38-92ca-252cf87b6028');\n",
              "          const dataTable =\n",
              "            await google.colab.kernel.invokeFunction('convertToInteractive',\n",
              "                                                     [key], {});\n",
              "          if (!dataTable) return;\n",
              "\n",
              "          const docLinkHtml = 'Like what you see? Visit the ' +\n",
              "            '<a target=\"_blank\" href=https://colab.research.google.com/notebooks/data_table.ipynb>data table notebook</a>'\n",
              "            + ' to learn more about interactive tables.';\n",
              "          element.innerHTML = '';\n",
              "          dataTable['output_type'] = 'display_data';\n",
              "          await google.colab.output.renderOutput(dataTable, element);\n",
              "          const docLink = document.createElement('div');\n",
              "          docLink.innerHTML = docLinkHtml;\n",
              "          element.appendChild(docLink);\n",
              "        }\n",
              "      </script>\n",
              "    </div>\n",
              "  </div>\n",
              "  "
            ]
          },
          "metadata": {},
          "execution_count": 14
        }
      ]
    },
    {
      "cell_type": "markdown",
      "source": [
        "## Extra\n",
        "\n",
        "- Explore a documentação do Twitter para aprender novas formas de realizar buscas na plataforma http://docs.tweepy.org/en/latest/api.html?highlight=search#API.search\n",
        "\n",
        "- Rolando a página, la em **Standard search operators** você encontra exemplos de operadores lógicos possíveis de se usar na busca :)\n",
        "https://developer.twitter.com/en/docs/twitter-api/v1/tweets/search/guides/standard-operators"
      ],
      "metadata": {
        "id": "RnZ58ORl4vwR"
      }
    },
    {
      "cell_type": "markdown",
      "source": [
        "## C'est la fin"
      ],
      "metadata": {
        "id": "sotzSJS_9n6y"
      }
    }
  ]
}